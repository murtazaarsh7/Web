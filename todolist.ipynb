{
  "nbformat": 4,
  "nbformat_minor": 0,
  "metadata": {
    "colab": {
      "provenance": [],
      "authorship_tag": "ABX9TyMfdwT06ju0oJ1Rf33SqDQY",
      "include_colab_link": true
    },
    "kernelspec": {
      "name": "python3",
      "display_name": "Python 3"
    },
    "language_info": {
      "name": "python"
    }
  },
  "cells": [
    {
      "cell_type": "markdown",
      "metadata": {
        "id": "view-in-github",
        "colab_type": "text"
      },
      "source": [
        "<a href=\"https://colab.research.google.com/github/murtazaarsh7/ml_model/blob/main/todolist.ipynb\" target=\"_parent\"><img src=\"https://colab.research.google.com/assets/colab-badge.svg\" alt=\"Open In Colab\"/></a>"
      ]
    },
    {
      "cell_type": "code",
      "execution_count": null,
      "metadata": {
        "colab": {
          "base_uri": "https://localhost:8080/"
        },
        "id": "gt2MFfBjUWVF",
        "outputId": "1a533590-3bb3-4a7d-dadb-852c6c2dc1da"
      },
      "outputs": [
        {
          "output_type": "stream",
          "name": "stdout",
          "text": [
            "\n",
            "========= TO_DO LIST MENU ========\n",
            "1.show tasks\n",
            "2.add tasks\n",
            "3.remove tasks\n",
            "4.marks task as done\n",
            "5.exit\n"
          ]
        }
      ],
      "source": [
        "tasks=[]\n",
        "def show_tasks():\n",
        "  if not tasks:\n",
        "    print(\"no tasks to show\")\n",
        "  else:\n",
        "    for i,task in enumerate(tasks):\n",
        "      status=\"✅\" if task['done'] else '❌'\n",
        "      print(f\"i.{task['title']}[{status}]\")\n",
        "def add_task():\n",
        "  title=input(\"\\n enter task: \")\n",
        "  tasks.append({\"title\": title,\"done\":False})\n",
        "  print(\"✅ task added!\")\n",
        "def mark_done():\n",
        "  show_tasks()\n",
        "  try:\n",
        "    task_num=int(input(\"enter task you completed: \"))\n",
        "    tasks[task_num-1][\"done\"]=\"✅\"\n",
        "    print(\"✅ task mark as done!\")\n",
        "  except(ValueError,IndexError):\n",
        "    print(\"❌ INVALID INPUT !\")\n",
        "def remove_task():\n",
        "  show_tasks()\n",
        "  try:\n",
        "    task_num=int(input(\"enter task you want to remove: \"))\n",
        "    remove=tasks.pop(task_num-1)\n",
        "    print(f\"removed task:{remove['title']}\")\n",
        "  except(ValueError,IndexError):\n",
        "    print(\"❌ INVALID INPUT !\")\n",
        "def menu():\n",
        "  while True:\n",
        "    print(\"\\n========= TO_DO LIST MENU ========\")\n",
        "    print(\"1.show tasks\")\n",
        "    print(\"2.add tasks\")\n",
        "    print(\"3.remove tasks\")\n",
        "    print(\"4.marks task as done\")\n",
        "    print(\"5.exit\")\n",
        "\n",
        "    choice=input(\"enter choice(1-5): \")\n",
        "    if(choice==\"1\"):\n",
        "      show_tasks()\n",
        "    elif(choice==\"2\"):\n",
        "      add_task()\n",
        "    elif(choice==\"3\"):\n",
        "      remove_task()\n",
        "    elif(choice==\"4\"):\n",
        "      mark_done()\n",
        "    elif(choice==\"5\"):\n",
        "      break\n",
        "    else:\n",
        "      print(\"❌ INVALID INPUT !\")\n",
        "menu()\n",
        "\n",
        ""
      ]
    }
  ]
}